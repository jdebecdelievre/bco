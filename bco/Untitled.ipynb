{
 "cells": [
  {
   "cell_type": "code",
   "execution_count": 1,
   "metadata": {},
   "outputs": [],
   "source": [
    "import torch\n",
    "import numpy as np\n",
    "import matplotlib.pyplot as plt\n",
    "import pandas as pd\n",
    "from torch.autograd import grad\n",
    "\n",
    "from bco.train import train"
   ]
  },
  {
   "cell_type": "code",
   "execution_count": 2,
   "metadata": {},
   "outputs": [],
   "source": [
    "N = 150\n",
    "t = np.linspace(-2,2,N)\n",
    "J = np.abs(t-0.5) - 0.5"
   ]
  },
  {
   "cell_type": "code",
   "execution_count": 3,
   "metadata": {},
   "outputs": [
    {
     "data": {
      "image/png": "[encoded data removed]",
      "text/plain": [
       "<Figure size 432x288 with 1 Axes>"
      ]
     },
     "metadata": {
      "needs_background": "light"
     },
     "output_type": "display_data"
    }
   ],
   "source": [
    "plt.plot(t, J)\n",
    "plt.grid()"
   ]
  },
  {
   "cell_type": "code",
   "execution_count": 4,
   "metadata": {},
   "outputs": [],
   "source": [
    "data = pd.DataFrame({\n",
    "    'x0':np.array([-.5]),\n",
    "    'x0_star':np.array([0.]),\n",
    "    'sqJ':np.array([.5]),\n",
    "    'dsqJ_x0':np.array([-1.]),\n",
    "    'classes': np.array([0.])\n",
    "})\n",
    "data.to_csv('tmp.csv', index=False)"
   ]
  },
  {
   "cell_type": "code",
   "execution_count": 5,
   "metadata": {},
   "outputs": [],
   "source": [
    "params = {\n",
    "    'model_type':'sqJ_classifier_w_derivative',\n",
    "    'model':{\n",
    "        'hidden_layers':[1],\n",
    "        'activation':'groupsort1'\n",
    "    },\n",
    "    'epochs':800,\n",
    "    'filename':'tmp.csv',\n",
    "    'test_filename': 'tmp.csv',\n",
    "    \n",
    "    \"logging\":{\n",
    "      \"test\":10000,\n",
    "      \"train\":100\n",
    "      },\n",
    "    'seed':None,\n",
    "    \n",
    "    \"optim\":{\n",
    "        'step_size':0.02\n",
    "    }\n",
    "}"
   ]
  },
  {
   "cell_type": "code",
   "execution_count": 6,
   "metadata": {},
   "outputs": [
    {
     "name": "stderr",
     "output_type": "stream",
     "text": [
      "  1%|▏         | 11/800 [00:00<00:07, 102.36it/s]"
     ]
    },
    {
     "name": "stdout",
     "output_type": "stream",
     "text": [
      "Training Sep01_19-12-12_jeandb\n",
      "{\n",
      "    \"SWA\": false,\n",
      "    \"augment\": false,\n",
      "    \"early_stopping\": null,\n",
      "    \"epochs\": 800,\n",
      "    \"filename\": \"tmp.csv\",\n",
      "    \"filename_suffix\": \"\",\n",
      "    \"grad_norm_regularizer\": 0.01,\n",
      "    \"input_regex\": \"^x\\\\d+$\",\n",
      "    \"input_size\": 1,\n",
      "    \"logging\": {\n",
      "        \"test\": 10000,\n",
      "        \"train\": 100\n",
      "    },\n",
      "    \"model\": {\n",
      "        \"activation\": \"groupsort1\",\n",
      "        \"hidden_layers\": [\n",
      "            1\n",
      "        ],\n",
      "        \"input_size\": 1,\n",
      "        \"linear\": {\n",
      "            \"bias\": true,\n",
      "            \"bjorck_beta\": 0.5,\n",
      "            \"bjorck_iter\": 20,\n",
      "            \"bjorck_order\": 1,\n",
      "            \"safe_scaling\": true,\n",
      "            \"type\": \"bjorck\"\n",
      "        },\n",
      "        \"per_epoch_proj\": {\n",
      "            \"bjorck_beta\": 0.5,\n",
      "            \"bjorck_iter\": 20,\n",
      "            \"bjorck_order\": 1,\n",
      "            \"reset_optimizer\": false,\n",
      "            \"safe_scaling\": true,\n",
      "            \"turned_on\": false\n",
      "        },\n",
      "        \"per_update_proj\": {\n",
      "            \"bjorck_beta\": 0.5,\n",
      "            \"bjorck_iter\": 12,\n",
      "            \"bjorck_order\": 1,\n",
      "            \"safe_scaling\": true,\n",
      "            \"turned_on\": false\n",
      "        }\n",
      "    },\n",
      "    \"model_restart\": null,\n",
      "    \"model_type\": \"sqJ_classifier_w_derivative\",\n",
      "    \"normalize_input\": false,\n",
      "    \"normalize_output\": false,\n",
      "    \"optim\": {\n",
      "        \"batch_size\": 50,\n",
      "        \"lr_scheduler\": {\n",
      "            \"factor\": 0.3,\n",
      "            \"name\": \"plateau\",\n",
      "            \"patience\": 500\n",
      "        },\n",
      "        \"max_grad_norm\": 1000,\n",
      "        \"momentum\": 0.9,\n",
      "        \"optimizer\": \"adam\",\n",
      "        \"step_size\": 0.02,\n",
      "        \"weight_decay\": 0.0\n",
      "    },\n",
      "    \"seed\": 1144261657,\n",
      "    \"test_filename\": \"tmp.csv\",\n",
      "    \"train_set_size\": 2\n",
      "}\n",
      "sqJModel(\n",
      "  (_net): Sequential(\n",
      "    (0): BjorckLinear(in_features=1, out_features=1, bias=True)\n",
      "    (1): GroupSort(num_groups: 1)\n",
      "    (2): RBFnet(\n",
      "      (centroids): ModuleList(\n",
      "        (0): DistanceModule(\n",
      "          (center): Linear(in_features=1, out_features=1, bias=True)\n",
      "        )\n",
      "        (1): DistanceModule(\n",
      "          (center): Linear(in_features=1, out_features=1, bias=True)\n",
      "        )\n",
      "        (2): DistanceModule(\n",
      "          (center): Linear(in_features=1, out_features=1, bias=True)\n",
      "        )\n",
      "      )\n",
      "    )\n",
      "  )\n",
      ")\n"
     ]
    },
    {
     "name": "stderr",
     "output_type": "stream",
     "text": [
      "100%|██████████| 800/800 [00:04<00:00, 167.15it/s]\n",
      "  2%|▏         | 16/800 [00:00<00:05, 156.20it/s]"
     ]
    },
    {
     "name": "stdout",
     "output_type": "stream",
     "text": [
      "{'model_restart': None, 'filename_suffix': '', 'model_type': 'sqJ_classifier_w_derivative', 'model': {'hidden_layers': [1], 'activation': 'groupsort1', 'linear': {'type': 'bjorck', 'safe_scaling': True, 'bjorck_beta': 0.5, 'bjorck_iter': 20, 'bjorck_order': 1, 'bias': True}, 'per_epoch_proj': {'turned_on': False, 'bjorck_beta': 0.5, 'bjorck_iter': 20, 'bjorck_order': 1, 'safe_scaling': True, 'reset_optimizer': False}, 'per_update_proj': {'turned_on': False, 'bjorck_beta': 0.5, 'bjorck_iter': 12, 'bjorck_order': 1, 'safe_scaling': True}, 'input_size': 1}, 'optim': {'optimizer': 'adam', 'lr_scheduler': {'name': 'plateau', 'patience': 500, 'factor': 0.3}, 'momentum': 0.9, 'weight_decay': 0.0, 'max_grad_norm': 1000, 'step_size': 0.02, 'batch_size': 50}, 'epochs': 800, 'SWA': False, 'grad_norm_regularizer': 0.01, 'early_stopping': None, 'seed': 1144261657, 'filename': 'tmp.csv', 'test_filename': 'tmp.csv', 'input_regex': '^x\\\\d+$', 'augment': False, 'normalize_input': False, 'normalize_output': False, 'logging': {'test': 10000, 'train': 100}, 'input_size': 1, 'train_set_size': 2, 'loss': 0.01057179393083127, 'loss_J loss': 0.010571793930831158, 'loss_dJ loss': 1.1102230246251565e-16, 'loss_classification loss': 0.0, 'loss_gradient norm': 0.0, 'loss_loss': 0.01057179393083127, 'test_accuracy': 0.0, 'test_precision': 0.0, 'test_recall': 0.0, 'test_true_positives': 0.0, 'test_true_negatives': 0.0, 'test_false_positives': 1.0, 'test_false_negatives': 0.0, 'test_f1': -1.0, 'test_Jrmse': 0.25}\n",
      "Training Sep01_19-12-16_jeandb\n",
      "{\n",
      "    \"SWA\": false,\n",
      "    \"augment\": false,\n",
      "    \"early_stopping\": null,\n",
      "    \"epochs\": 800,\n",
      "    \"filename\": \"tmp.csv\",\n",
      "    \"filename_suffix\": \"\",\n",
      "    \"grad_norm_regularizer\": 0.01,\n",
      "    \"input_regex\": \"^x\\\\d+$\",\n",
      "    \"input_size\": 1,\n",
      "    \"logging\": {\n",
      "        \"test\": 10000,\n",
      "        \"train\": 100\n",
      "    },\n",
      "    \"model\": {\n",
      "        \"activation\": \"groupsort1\",\n",
      "        \"hidden_layers\": [\n",
      "            1\n",
      "        ],\n",
      "        \"input_size\": 1,\n",
      "        \"linear\": {\n",
      "            \"bias\": true,\n",
      "            \"bjorck_beta\": 0.5,\n",
      "            \"bjorck_iter\": 20,\n",
      "            \"bjorck_order\": 1,\n",
      "            \"safe_scaling\": true,\n",
      "            \"type\": \"bjorck\"\n",
      "        },\n",
      "        \"per_epoch_proj\": {\n",
      "            \"bjorck_beta\": 0.5,\n",
      "            \"bjorck_iter\": 20,\n",
      "            \"bjorck_order\": 1,\n",
      "            \"reset_optimizer\": false,\n",
      "            \"safe_scaling\": true,\n",
      "            \"turned_on\": false\n",
      "        },\n",
      "        \"per_update_proj\": {\n",
      "            \"bjorck_beta\": 0.5,\n",
      "            \"bjorck_iter\": 12,\n",
      "            \"bjorck_order\": 1,\n",
      "            \"safe_scaling\": true,\n",
      "            \"turned_on\": false\n",
      "        }\n",
      "    },\n",
      "    \"model_restart\": null,\n",
      "    \"model_type\": \"sqJ_classifier_w_derivative\",\n",
      "    \"normalize_input\": false,\n",
      "    \"normalize_output\": false,\n",
      "    \"optim\": {\n",
      "        \"batch_size\": 50,\n",
      "        \"lr_scheduler\": {\n",
      "            \"factor\": 0.3,\n",
      "            \"name\": \"plateau\",\n",
      "            \"patience\": 500\n",
      "        },\n",
      "        \"max_grad_norm\": 1000,\n",
      "        \"momentum\": 0.9,\n",
      "        \"optimizer\": \"adam\",\n",
      "        \"step_size\": 0.02,\n",
      "        \"weight_decay\": 0.0\n",
      "    },\n",
      "    \"seed\": 1221210331,\n",
      "    \"test_filename\": \"tmp.csv\",\n",
      "    \"train_set_size\": 2\n",
      "}\n",
      "sqJModel(\n",
      "  (_net): Sequential(\n",
      "    (0): BjorckLinear(in_features=1, out_features=1, bias=True)\n",
      "    (1): GroupSort(num_groups: 1)\n",
      "    (2): RBFnet(\n",
      "      (centroids): ModuleList(\n",
      "        (0): DistanceModule(\n",
      "          (center): Linear(in_features=1, out_features=1, bias=True)\n",
      "        )\n",
      "        (1): DistanceModule(\n",
      "          (center): Linear(in_features=1, out_features=1, bias=True)\n",
      "        )\n",
      "        (2): DistanceModule(\n",
      "          (center): Linear(in_features=1, out_features=1, bias=True)\n",
      "        )\n",
      "      )\n",
      "    )\n",
      "  )\n",
      ")\n"
     ]
    },
    {
     "name": "stderr",
     "output_type": "stream",
     "text": [
      "100%|██████████| 800/800 [00:04<00:00, 170.27it/s]\n",
      "  2%|▏         | 16/800 [00:00<00:04, 157.04it/s]"
     ]
    },
    {
     "name": "stdout",
     "output_type": "stream",
     "text": [
      "{'model_restart': None, 'filename_suffix': '', 'model_type': 'sqJ_classifier_w_derivative', 'model': {'hidden_layers': [1], 'activation': 'groupsort1', 'linear': {'type': 'bjorck', 'safe_scaling': True, 'bjorck_beta': 0.5, 'bjorck_iter': 20, 'bjorck_order': 1, 'bias': True}, 'per_epoch_proj': {'turned_on': False, 'bjorck_beta': 0.5, 'bjorck_iter': 20, 'bjorck_order': 1, 'safe_scaling': True, 'reset_optimizer': False}, 'per_update_proj': {'turned_on': False, 'bjorck_beta': 0.5, 'bjorck_iter': 12, 'bjorck_order': 1, 'safe_scaling': True}, 'input_size': 1}, 'optim': {'optimizer': 'adam', 'lr_scheduler': {'name': 'plateau', 'patience': 500, 'factor': 0.3}, 'momentum': 0.9, 'weight_decay': 0.0, 'max_grad_norm': 1000, 'step_size': 0.02, 'batch_size': 50}, 'epochs': 800, 'SWA': False, 'grad_norm_regularizer': 0.01, 'early_stopping': None, 'seed': 1221210331, 'filename': 'tmp.csv', 'test_filename': 'tmp.csv', 'input_regex': '^x\\\\d+$', 'augment': False, 'normalize_input': False, 'normalize_output': False, 'logging': {'test': 10000, 'train': 100}, 'input_size': 1, 'train_set_size': 2, 'loss': 3.0448165497177744, 'loss_J loss': 1.002822827518889, 'loss_dJ loss': 2.0419937221988853, 'loss_classification loss': 0.0, 'loss_gradient norm': 0.0, 'loss_loss': 3.0448165497177744, 'test_accuracy': 0.0, 'test_precision': 0.0, 'test_recall': 0.0, 'test_true_positives': 0.0, 'test_true_negatives': 0.0, 'test_false_positives': 1.0, 'test_false_negatives': 0.0, 'test_f1': -1.0, 'test_Jrmse': 0.25}\n",
      "Training Sep01_19-12-21_jeandb\n",
      "{\n",
      "    \"SWA\": false,\n",
      "    \"augment\": false,\n",
      "    \"early_stopping\": null,\n",
      "    \"epochs\": 800,\n",
      "    \"filename\": \"tmp.csv\",\n",
      "    \"filename_suffix\": \"\",\n",
      "    \"grad_norm_regularizer\": 0.01,\n",
      "    \"input_regex\": \"^x\\\\d+$\",\n",
      "    \"input_size\": 1,\n",
      "    \"logging\": {\n",
      "        \"test\": 10000,\n",
      "        \"train\": 100\n",
      "    },\n",
      "    \"model\": {\n",
      "        \"activation\": \"groupsort1\",\n",
      "        \"hidden_layers\": [\n",
      "            1\n",
      "        ],\n",
      "        \"input_size\": 1,\n",
      "        \"linear\": {\n",
      "            \"bias\": true,\n",
      "            \"bjorck_beta\": 0.5,\n",
      "            \"bjorck_iter\": 20,\n",
      "            \"bjorck_order\": 1,\n",
      "            \"safe_scaling\": true,\n",
      "            \"type\": \"bjorck\"\n",
      "        },\n",
      "        \"per_epoch_proj\": {\n",
      "            \"bjorck_beta\": 0.5,\n",
      "            \"bjorck_iter\": 20,\n",
      "            \"bjorck_order\": 1,\n",
      "            \"reset_optimizer\": false,\n",
      "            \"safe_scaling\": true,\n",
      "            \"turned_on\": false\n",
      "        },\n",
      "        \"per_update_proj\": {\n",
      "            \"bjorck_beta\": 0.5,\n",
      "            \"bjorck_iter\": 12,\n",
      "            \"bjorck_order\": 1,\n",
      "            \"safe_scaling\": true,\n",
      "            \"turned_on\": false\n",
      "        }\n",
      "    },\n",
      "    \"model_restart\": null,\n",
      "    \"model_type\": \"sqJ_classifier_w_derivative\",\n",
      "    \"normalize_input\": false,\n",
      "    \"normalize_output\": false,\n",
      "    \"optim\": {\n",
      "        \"batch_size\": 50,\n",
      "        \"lr_scheduler\": {\n",
      "            \"factor\": 0.3,\n",
      "            \"name\": \"plateau\",\n",
      "            \"patience\": 500\n",
      "        },\n",
      "        \"max_grad_norm\": 1000,\n",
      "        \"momentum\": 0.9,\n",
      "        \"optimizer\": \"adam\",\n",
      "        \"step_size\": 0.02,\n",
      "        \"weight_decay\": 0.0\n",
      "    },\n",
      "    \"seed\": 1268048601,\n",
      "    \"test_filename\": \"tmp.csv\",\n",
      "    \"train_set_size\": 2\n",
      "}\n",
      "sqJModel(\n",
      "  (_net): Sequential(\n",
      "    (0): BjorckLinear(in_features=1, out_features=1, bias=True)\n",
      "    (1): GroupSort(num_groups: 1)\n",
      "    (2): RBFnet(\n",
      "      (centroids): ModuleList(\n",
      "        (0): DistanceModule(\n",
      "          (center): Linear(in_features=1, out_features=1, bias=True)\n",
      "        )\n",
      "        (1): DistanceModule(\n",
      "          (center): Linear(in_features=1, out_features=1, bias=True)\n",
      "        )\n",
      "        (2): DistanceModule(\n",
      "          (center): Linear(in_features=1, out_features=1, bias=True)\n",
      "        )\n",
      "      )\n",
      "    )\n",
      "  )\n",
      ")\n"
     ]
    },
    {
     "name": "stderr",
     "output_type": "stream",
     "text": [
      "100%|██████████| 800/800 [00:04<00:00, 169.28it/s]\n",
      "  2%|▏         | 16/800 [00:00<00:04, 159.47it/s]"
     ]
    },
    {
     "name": "stdout",
     "output_type": "stream",
     "text": [
      "{'model_restart': None, 'filename_suffix': '', 'model_type': 'sqJ_classifier_w_derivative', 'model': {'hidden_layers': [1], 'activation': 'groupsort1', 'linear': {'type': 'bjorck', 'safe_scaling': True, 'bjorck_beta': 0.5, 'bjorck_iter': 20, 'bjorck_order': 1, 'bias': True}, 'per_epoch_proj': {'turned_on': False, 'bjorck_beta': 0.5, 'bjorck_iter': 20, 'bjorck_order': 1, 'safe_scaling': True, 'reset_optimizer': False}, 'per_update_proj': {'turned_on': False, 'bjorck_beta': 0.5, 'bjorck_iter': 12, 'bjorck_order': 1, 'safe_scaling': True}, 'input_size': 1}, 'optim': {'optimizer': 'adam', 'lr_scheduler': {'name': 'plateau', 'patience': 500, 'factor': 0.3}, 'momentum': 0.9, 'weight_decay': 0.0, 'max_grad_norm': 1000, 'step_size': 0.02, 'batch_size': 50}, 'epochs': 800, 'SWA': False, 'grad_norm_regularizer': 0.01, 'early_stopping': None, 'seed': 1268048601, 'filename': 'tmp.csv', 'test_filename': 'tmp.csv', 'input_regex': '^x\\\\d+$', 'augment': False, 'normalize_input': False, 'normalize_output': False, 'logging': {'test': 10000, 'train': 100}, 'input_size': 1, 'train_set_size': 2, 'loss': 5.453479667690203, 'loss_J loss': 1.4715168665877538, 'loss_dJ loss': 3.981962801102449, 'loss_classification loss': 0.0, 'loss_gradient norm': 0.0, 'loss_loss': 5.453479667690203, 'test_accuracy': 0.0, 'test_precision': 0.0, 'test_recall': 0.0, 'test_true_positives': 0.0, 'test_true_negatives': 0.0, 'test_false_positives': 1.0, 'test_false_negatives': 0.0, 'test_f1': -1.0, 'test_Jrmse': 0.25}\n",
      "Training Sep01_19-12-26_jeandb\n",
      "{\n",
      "    \"SWA\": false,\n",
      "    \"augment\": false,\n",
      "    \"early_stopping\": null,\n",
      "    \"epochs\": 800,\n",
      "    \"filename\": \"tmp.csv\",\n",
      "    \"filename_suffix\": \"\",\n",
      "    \"grad_norm_regularizer\": 0.01,\n",
      "    \"input_regex\": \"^x\\\\d+$\",\n",
      "    \"input_size\": 1,\n",
      "    \"logging\": {\n",
      "        \"test\": 10000,\n",
      "        \"train\": 100\n",
      "    },\n",
      "    \"model\": {\n",
      "        \"activation\": \"groupsort1\",\n",
      "        \"hidden_layers\": [\n",
      "            1\n",
      "        ],\n",
      "        \"input_size\": 1,\n",
      "        \"linear\": {\n",
      "            \"bias\": true,\n",
      "            \"bjorck_beta\": 0.5,\n",
      "            \"bjorck_iter\": 20,\n",
      "            \"bjorck_order\": 1,\n",
      "            \"safe_scaling\": true,\n",
      "            \"type\": \"bjorck\"\n",
      "        },\n",
      "        \"per_epoch_proj\": {\n",
      "            \"bjorck_beta\": 0.5,\n",
      "            \"bjorck_iter\": 20,\n",
      "            \"bjorck_order\": 1,\n",
      "            \"reset_optimizer\": false,\n",
      "            \"safe_scaling\": true,\n",
      "            \"turned_on\": false\n",
      "        },\n",
      "        \"per_update_proj\": {\n",
      "            \"bjorck_beta\": 0.5,\n",
      "            \"bjorck_iter\": 12,\n",
      "            \"bjorck_order\": 1,\n",
      "            \"safe_scaling\": true,\n",
      "            \"turned_on\": false\n",
      "        }\n",
      "    },\n",
      "    \"model_restart\": null,\n",
      "    \"model_type\": \"sqJ_classifier_w_derivative\",\n",
      "    \"normalize_input\": false,\n",
      "    \"normalize_output\": false,\n",
      "    \"optim\": {\n",
      "        \"batch_size\": 50,\n",
      "        \"lr_scheduler\": {\n",
      "            \"factor\": 0.3,\n",
      "            \"name\": \"plateau\",\n",
      "            \"patience\": 500\n",
      "        },\n",
      "        \"max_grad_norm\": 1000,\n",
      "        \"momentum\": 0.9,\n",
      "        \"optimizer\": \"adam\",\n",
      "        \"step_size\": 0.02,\n",
      "        \"weight_decay\": 0.0\n",
      "    },\n",
      "    \"seed\": 2087868688,\n",
      "    \"test_filename\": \"tmp.csv\",\n",
      "    \"train_set_size\": 2\n",
      "}\n",
      "sqJModel(\n",
      "  (_net): Sequential(\n",
      "    (0): BjorckLinear(in_features=1, out_features=1, bias=True)\n",
      "    (1): GroupSort(num_groups: 1)\n",
      "    (2): RBFnet(\n",
      "      (centroids): ModuleList(\n",
      "        (0): DistanceModule(\n",
      "          (center): Linear(in_features=1, out_features=1, bias=True)\n",
      "        )\n",
      "        (1): DistanceModule(\n",
      "          (center): Linear(in_features=1, out_features=1, bias=True)\n",
      "        )\n",
      "        (2): DistanceModule(\n",
      "          (center): Linear(in_features=1, out_features=1, bias=True)\n",
      "        )\n",
      "      )\n",
      "    )\n",
      "  )\n",
      ")\n"
     ]
    },
    {
     "name": "stderr",
     "output_type": "stream",
     "text": [
      "100%|██████████| 800/800 [00:04<00:00, 168.99it/s]\n",
      "  2%|▏         | 16/800 [00:00<00:04, 158.65it/s]"
     ]
    },
    {
     "name": "stdout",
     "output_type": "stream",
     "text": [
      "{'model_restart': None, 'filename_suffix': '', 'model_type': 'sqJ_classifier_w_derivative', 'model': {'hidden_layers': [1], 'activation': 'groupsort1', 'linear': {'type': 'bjorck', 'safe_scaling': True, 'bjorck_beta': 0.5, 'bjorck_iter': 20, 'bjorck_order': 1, 'bias': True}, 'per_epoch_proj': {'turned_on': False, 'bjorck_beta': 0.5, 'bjorck_iter': 20, 'bjorck_order': 1, 'safe_scaling': True, 'reset_optimizer': False}, 'per_update_proj': {'turned_on': False, 'bjorck_beta': 0.5, 'bjorck_iter': 12, 'bjorck_order': 1, 'safe_scaling': True}, 'input_size': 1}, 'optim': {'optimizer': 'adam', 'lr_scheduler': {'name': 'plateau', 'patience': 500, 'factor': 0.3}, 'momentum': 0.9, 'weight_decay': 0.0, 'max_grad_norm': 1000, 'step_size': 0.02, 'batch_size': 50}, 'epochs': 800, 'SWA': False, 'grad_norm_regularizer': 0.01, 'early_stopping': None, 'seed': 2087868688, 'filename': 'tmp.csv', 'test_filename': 'tmp.csv', 'input_regex': '^x\\\\d+$', 'augment': False, 'normalize_input': False, 'normalize_output': False, 'logging': {'test': 10000, 'train': 100}, 'input_size': 1, 'train_set_size': 2, 'loss': 5.0, 'loss_J loss': 1.0, 'loss_dJ loss': 4.0, 'loss_classification loss': 0.0, 'loss_gradient norm': 0.0, 'loss_loss': 5.0, 'test_accuracy': 0.0, 'test_precision': 0.0, 'test_recall': 0.0, 'test_true_positives': 0.0, 'test_true_negatives': 0.0, 'test_false_positives': 1.0, 'test_false_negatives': 0.0, 'test_f1': -1.0, 'test_Jrmse': 0.25}\n",
      "Training Sep01_19-12-31_jeandb\n",
      "{\n",
      "    \"SWA\": false,\n",
      "    \"augment\": false,\n",
      "    \"early_stopping\": null,\n",
      "    \"epochs\": 800,\n",
      "    \"filename\": \"tmp.csv\",\n",
      "    \"filename_suffix\": \"\",\n",
      "    \"grad_norm_regularizer\": 0.01,\n",
      "    \"input_regex\": \"^x\\\\d+$\",\n",
      "    \"input_size\": 1,\n",
      "    \"logging\": {\n",
      "        \"test\": 10000,\n",
      "        \"train\": 100\n",
      "    },\n",
      "    \"model\": {\n",
      "        \"activation\": \"groupsort1\",\n",
      "        \"hidden_layers\": [\n",
      "            1\n",
      "        ],\n",
      "        \"input_size\": 1,\n",
      "        \"linear\": {\n",
      "            \"bias\": true,\n",
      "            \"bjorck_beta\": 0.5,\n",
      "            \"bjorck_iter\": 20,\n",
      "            \"bjorck_order\": 1,\n",
      "            \"safe_scaling\": true,\n",
      "            \"type\": \"bjorck\"\n",
      "        },\n",
      "        \"per_epoch_proj\": {\n",
      "            \"bjorck_beta\": 0.5,\n",
      "            \"bjorck_iter\": 20,\n",
      "            \"bjorck_order\": 1,\n",
      "            \"reset_optimizer\": false,\n",
      "            \"safe_scaling\": true,\n",
      "            \"turned_on\": false\n",
      "        },\n",
      "        \"per_update_proj\": {\n",
      "            \"bjorck_beta\": 0.5,\n",
      "            \"bjorck_iter\": 12,\n",
      "            \"bjorck_order\": 1,\n",
      "            \"safe_scaling\": true,\n",
      "            \"turned_on\": false\n",
      "        }\n",
      "    },\n",
      "    \"model_restart\": null,\n",
      "    \"model_type\": \"sqJ_classifier_w_derivative\",\n",
      "    \"normalize_input\": false,\n",
      "    \"normalize_output\": false,\n",
      "    \"optim\": {\n",
      "        \"batch_size\": 50,\n",
      "        \"lr_scheduler\": {\n",
      "            \"factor\": 0.3,\n",
      "            \"name\": \"plateau\",\n",
      "            \"patience\": 500\n",
      "        },\n",
      "        \"max_grad_norm\": 1000,\n",
      "        \"momentum\": 0.9,\n",
      "        \"optimizer\": \"adam\",\n",
      "        \"step_size\": 0.02,\n",
      "        \"weight_decay\": 0.0\n",
      "    },\n",
      "    \"seed\": 1647768704,\n",
      "    \"test_filename\": \"tmp.csv\",\n",
      "    \"train_set_size\": 2\n",
      "}\n",
      "sqJModel(\n",
      "  (_net): Sequential(\n",
      "    (0): BjorckLinear(in_features=1, out_features=1, bias=True)\n",
      "    (1): GroupSort(num_groups: 1)\n",
      "    (2): RBFnet(\n",
      "      (centroids): ModuleList(\n",
      "        (0): DistanceModule(\n",
      "          (center): Linear(in_features=1, out_features=1, bias=True)\n",
      "        )\n",
      "        (1): DistanceModule(\n",
      "          (center): Linear(in_features=1, out_features=1, bias=True)\n",
      "        )\n",
      "        (2): DistanceModule(\n",
      "          (center): Linear(in_features=1, out_features=1, bias=True)\n",
      "        )\n",
      "      )\n",
      "    )\n",
      "  )\n",
      ")\n"
     ]
    },
    {
     "name": "stderr",
     "output_type": "stream",
     "text": [
      "100%|██████████| 800/800 [00:04<00:00, 171.30it/s]\n",
      "  2%|▏         | 17/800 [00:00<00:04, 161.62it/s]"
     ]
    },
    {
     "name": "stdout",
     "output_type": "stream",
     "text": [
      "{'model_restart': None, 'filename_suffix': '', 'model_type': 'sqJ_classifier_w_derivative', 'model': {'hidden_layers': [1], 'activation': 'groupsort1', 'linear': {'type': 'bjorck', 'safe_scaling': True, 'bjorck_beta': 0.5, 'bjorck_iter': 20, 'bjorck_order': 1, 'bias': True}, 'per_epoch_proj': {'turned_on': False, 'bjorck_beta': 0.5, 'bjorck_iter': 20, 'bjorck_order': 1, 'safe_scaling': True, 'reset_optimizer': False}, 'per_update_proj': {'turned_on': False, 'bjorck_beta': 0.5, 'bjorck_iter': 12, 'bjorck_order': 1, 'safe_scaling': True}, 'input_size': 1}, 'optim': {'optimizer': 'adam', 'lr_scheduler': {'name': 'plateau', 'patience': 500, 'factor': 0.3}, 'momentum': 0.9, 'weight_decay': 0.0, 'max_grad_norm': 1000, 'step_size': 0.02, 'batch_size': 50}, 'epochs': 800, 'SWA': False, 'grad_norm_regularizer': 0.01, 'early_stopping': None, 'seed': 1647768704, 'filename': 'tmp.csv', 'test_filename': 'tmp.csv', 'input_regex': '^x\\\\d+$', 'augment': False, 'normalize_input': False, 'normalize_output': False, 'logging': {'test': 10000, 'train': 100}, 'input_size': 1, 'train_set_size': 2, 'loss': 3.2050137809271257, 'loss_J loss': 1.2748393196473318, 'loss_dJ loss': 1.930174461279794, 'loss_classification loss': 0.0, 'loss_gradient norm': 0.0, 'loss_loss': 3.2050137809271257, 'test_accuracy': 0.0, 'test_precision': 0.0, 'test_recall': 0.0, 'test_true_positives': 0.0, 'test_true_negatives': 0.0, 'test_false_positives': 1.0, 'test_false_negatives': 0.0, 'test_f1': -1.0, 'test_Jrmse': 0.25}\n",
      "Training Sep01_19-12-35_jeandb\n",
      "{\n",
      "    \"SWA\": false,\n",
      "    \"augment\": false,\n",
      "    \"early_stopping\": null,\n",
      "    \"epochs\": 800,\n",
      "    \"filename\": \"tmp.csv\",\n",
      "    \"filename_suffix\": \"\",\n",
      "    \"grad_norm_regularizer\": 0.01,\n",
      "    \"input_regex\": \"^x\\\\d+$\",\n",
      "    \"input_size\": 1,\n",
      "    \"logging\": {\n",
      "        \"test\": 10000,\n",
      "        \"train\": 100\n",
      "    },\n",
      "    \"model\": {\n",
      "        \"activation\": \"groupsort1\",\n",
      "        \"hidden_layers\": [\n",
      "            1\n",
      "        ],\n",
      "        \"input_size\": 1,\n",
      "        \"linear\": {\n",
      "            \"bias\": true,\n",
      "            \"bjorck_beta\": 0.5,\n",
      "            \"bjorck_iter\": 20,\n",
      "            \"bjorck_order\": 1,\n",
      "            \"safe_scaling\": true,\n",
      "            \"type\": \"bjorck\"\n",
      "        },\n",
      "        \"per_epoch_proj\": {\n",
      "            \"bjorck_beta\": 0.5,\n",
      "            \"bjorck_iter\": 20,\n",
      "            \"bjorck_order\": 1,\n",
      "            \"reset_optimizer\": false,\n",
      "            \"safe_scaling\": true,\n",
      "            \"turned_on\": false\n",
      "        },\n",
      "        \"per_update_proj\": {\n",
      "            \"bjorck_beta\": 0.5,\n",
      "            \"bjorck_iter\": 12,\n",
      "            \"bjorck_order\": 1,\n",
      "            \"safe_scaling\": true,\n",
      "            \"turned_on\": false\n",
      "        }\n",
      "    },\n",
      "    \"model_restart\": null,\n",
      "    \"model_type\": \"sqJ_classifier_w_derivative\",\n",
      "    \"normalize_input\": false,\n",
      "    \"normalize_output\": false,\n",
      "    \"optim\": {\n",
      "        \"batch_size\": 50,\n",
      "        \"lr_scheduler\": {\n",
      "            \"factor\": 0.3,\n",
      "            \"name\": \"plateau\",\n",
      "            \"patience\": 500\n",
      "        },\n",
      "        \"max_grad_norm\": 1000,\n",
      "        \"momentum\": 0.9,\n",
      "        \"optimizer\": \"adam\",\n",
      "        \"step_size\": 0.02,\n",
      "        \"weight_decay\": 0.0\n",
      "    },\n",
      "    \"seed\": 1666126195,\n",
      "    \"test_filename\": \"tmp.csv\",\n",
      "    \"train_set_size\": 2\n",
      "}\n",
      "sqJModel(\n",
      "  (_net): Sequential(\n",
      "    (0): BjorckLinear(in_features=1, out_features=1, bias=True)\n",
      "    (1): GroupSort(num_groups: 1)\n",
      "    (2): RBFnet(\n",
      "      (centroids): ModuleList(\n",
      "        (0): DistanceModule(\n",
      "          (center): Linear(in_features=1, out_features=1, bias=True)\n",
      "        )\n",
      "        (1): DistanceModule(\n",
      "          (center): Linear(in_features=1, out_features=1, bias=True)\n",
      "        )\n",
      "        (2): DistanceModule(\n",
      "          (center): Linear(in_features=1, out_features=1, bias=True)\n",
      "        )\n",
      "      )\n",
      "    )\n",
      "  )\n",
      ")\n"
     ]
    },
    {
     "name": "stderr",
     "output_type": "stream",
     "text": [
      "100%|██████████| 800/800 [00:04<00:00, 170.76it/s]\n",
      "  2%|▏         | 16/800 [00:00<00:05, 156.00it/s]"
     ]
    },
    {
     "name": "stdout",
     "output_type": "stream",
     "text": [
      "{'model_restart': None, 'filename_suffix': '', 'model_type': 'sqJ_classifier_w_derivative', 'model': {'hidden_layers': [1], 'activation': 'groupsort1', 'linear': {'type': 'bjorck', 'safe_scaling': True, 'bjorck_beta': 0.5, 'bjorck_iter': 20, 'bjorck_order': 1, 'bias': True}, 'per_epoch_proj': {'turned_on': False, 'bjorck_beta': 0.5, 'bjorck_iter': 20, 'bjorck_order': 1, 'safe_scaling': True, 'reset_optimizer': False}, 'per_update_proj': {'turned_on': False, 'bjorck_beta': 0.5, 'bjorck_iter': 12, 'bjorck_order': 1, 'safe_scaling': True}, 'input_size': 1}, 'optim': {'optimizer': 'adam', 'lr_scheduler': {'name': 'plateau', 'patience': 500, 'factor': 0.3}, 'momentum': 0.9, 'weight_decay': 0.0, 'max_grad_norm': 1000, 'step_size': 0.02, 'batch_size': 50}, 'epochs': 800, 'SWA': False, 'grad_norm_regularizer': 0.01, 'early_stopping': None, 'seed': 1666126195, 'filename': 'tmp.csv', 'test_filename': 'tmp.csv', 'input_regex': '^x\\\\d+$', 'augment': False, 'normalize_input': False, 'normalize_output': False, 'logging': {'test': 10000, 'train': 100}, 'input_size': 1, 'train_set_size': 2, 'loss': 5.144736305280463, 'loss_J loss': 1.3924573101825208, 'loss_dJ loss': 3.7522789950979423, 'loss_classification loss': 0.0, 'loss_gradient norm': 0.0, 'loss_loss': 5.144736305280463, 'test_accuracy': 0.0, 'test_precision': 0.0, 'test_recall': 0.0, 'test_true_positives': 0.0, 'test_true_negatives': 0.0, 'test_false_positives': 1.0, 'test_false_negatives': 0.0, 'test_f1': -1.0, 'test_Jrmse': 0.25}\n",
      "Training Sep01_19-12-40_jeandb\n",
      "{\n",
      "    \"SWA\": false,\n",
      "    \"augment\": false,\n",
      "    \"early_stopping\": null,\n",
      "    \"epochs\": 800,\n",
      "    \"filename\": \"tmp.csv\",\n",
      "    \"filename_suffix\": \"\",\n",
      "    \"grad_norm_regularizer\": 0.01,\n",
      "    \"input_regex\": \"^x\\\\d+$\",\n",
      "    \"input_size\": 1,\n",
      "    \"logging\": {\n",
      "        \"test\": 10000,\n",
      "        \"train\": 100\n",
      "    },\n",
      "    \"model\": {\n",
      "        \"activation\": \"groupsort1\",\n",
      "        \"hidden_layers\": [\n",
      "            1\n",
      "        ],\n",
      "        \"input_size\": 1,\n",
      "        \"linear\": {\n",
      "            \"bias\": true,\n",
      "            \"bjorck_beta\": 0.5,\n",
      "            \"bjorck_iter\": 20,\n",
      "            \"bjorck_order\": 1,\n",
      "            \"safe_scaling\": true,\n",
      "            \"type\": \"bjorck\"\n",
      "        },\n",
      "        \"per_epoch_proj\": {\n",
      "            \"bjorck_beta\": 0.5,\n",
      "            \"bjorck_iter\": 20,\n",
      "            \"bjorck_order\": 1,\n",
      "            \"reset_optimizer\": false,\n",
      "            \"safe_scaling\": true,\n",
      "            \"turned_on\": false\n",
      "        },\n",
      "        \"per_update_proj\": {\n",
      "            \"bjorck_beta\": 0.5,\n",
      "            \"bjorck_iter\": 12,\n",
      "            \"bjorck_order\": 1,\n",
      "            \"safe_scaling\": true,\n",
      "            \"turned_on\": false\n",
      "        }\n",
      "    },\n",
      "    \"model_restart\": null,\n",
      "    \"model_type\": \"sqJ_classifier_w_derivative\",\n",
      "    \"normalize_input\": false,\n",
      "    \"normalize_output\": false,\n",
      "    \"optim\": {\n",
      "        \"batch_size\": 50,\n",
      "        \"lr_scheduler\": {\n",
      "            \"factor\": 0.3,\n",
      "            \"name\": \"plateau\",\n",
      "            \"patience\": 500\n",
      "        },\n",
      "        \"max_grad_norm\": 1000,\n",
      "        \"momentum\": 0.9,\n",
      "        \"optimizer\": \"adam\",\n",
      "        \"step_size\": 0.02,\n",
      "        \"weight_decay\": 0.0\n",
      "    },\n",
      "    \"seed\": 351006895,\n",
      "    \"test_filename\": \"tmp.csv\",\n",
      "    \"train_set_size\": 2\n",
      "}\n",
      "sqJModel(\n",
      "  (_net): Sequential(\n",
      "    (0): BjorckLinear(in_features=1, out_features=1, bias=True)\n",
      "    (1): GroupSort(num_groups: 1)\n",
      "    (2): RBFnet(\n",
      "      (centroids): ModuleList(\n",
      "        (0): DistanceModule(\n",
      "          (center): Linear(in_features=1, out_features=1, bias=True)\n",
      "        )\n",
      "        (1): DistanceModule(\n",
      "          (center): Linear(in_features=1, out_features=1, bias=True)\n",
      "        )\n",
      "        (2): DistanceModule(\n",
      "          (center): Linear(in_features=1, out_features=1, bias=True)\n",
      "        )\n",
      "      )\n",
      "    )\n",
      "  )\n",
      ")\n"
     ]
    },
    {
     "name": "stderr",
     "output_type": "stream",
     "text": [
      "100%|██████████| 800/800 [00:04<00:00, 170.54it/s]\n",
      "  2%|▏         | 16/800 [00:00<00:05, 156.68it/s]"
     ]
    },
    {
     "name": "stdout",
     "output_type": "stream",
     "text": [
      "{'model_restart': None, 'filename_suffix': '', 'model_type': 'sqJ_classifier_w_derivative', 'model': {'hidden_layers': [1], 'activation': 'groupsort1', 'linear': {'type': 'bjorck', 'safe_scaling': True, 'bjorck_beta': 0.5, 'bjorck_iter': 20, 'bjorck_order': 1, 'bias': True}, 'per_epoch_proj': {'turned_on': False, 'bjorck_beta': 0.5, 'bjorck_iter': 20, 'bjorck_order': 1, 'safe_scaling': True, 'reset_optimizer': False}, 'per_update_proj': {'turned_on': False, 'bjorck_beta': 0.5, 'bjorck_iter': 12, 'bjorck_order': 1, 'safe_scaling': True}, 'input_size': 1}, 'optim': {'optimizer': 'adam', 'lr_scheduler': {'name': 'plateau', 'patience': 500, 'factor': 0.3}, 'momentum': 0.9, 'weight_decay': 0.0, 'max_grad_norm': 1000, 'step_size': 0.02, 'batch_size': 50}, 'epochs': 800, 'SWA': False, 'grad_norm_regularizer': 0.01, 'early_stopping': None, 'seed': 351006895, 'filename': 'tmp.csv', 'test_filename': 'tmp.csv', 'input_regex': '^x\\\\d+$', 'augment': False, 'normalize_input': False, 'normalize_output': False, 'logging': {'test': 10000, 'train': 100}, 'input_size': 1, 'train_set_size': 2, 'loss': 3.7035873696134014, 'loss_J loss': 1.0419035396683105, 'loss_dJ loss': 2.661683829945091, 'loss_classification loss': 0.0, 'loss_gradient norm': 0.0, 'loss_loss': 3.7035873696134014, 'test_accuracy': 0.0, 'test_precision': 0.0, 'test_recall': 0.0, 'test_true_positives': 0.0, 'test_true_negatives': 0.0, 'test_false_positives': 1.0, 'test_false_negatives': 0.0, 'test_f1': -1.0, 'test_Jrmse': 0.25}\n",
      "Training Sep01_19-12-45_jeandb\n",
      "{\n",
      "    \"SWA\": false,\n",
      "    \"augment\": false,\n",
      "    \"early_stopping\": null,\n",
      "    \"epochs\": 800,\n",
      "    \"filename\": \"tmp.csv\",\n",
      "    \"filename_suffix\": \"\",\n",
      "    \"grad_norm_regularizer\": 0.01,\n",
      "    \"input_regex\": \"^x\\\\d+$\",\n",
      "    \"input_size\": 1,\n",
      "    \"logging\": {\n",
      "        \"test\": 10000,\n",
      "        \"train\": 100\n",
      "    },\n",
      "    \"model\": {\n",
      "        \"activation\": \"groupsort1\",\n",
      "        \"hidden_layers\": [\n",
      "            1\n",
      "        ],\n",
      "        \"input_size\": 1,\n",
      "        \"linear\": {\n",
      "            \"bias\": true,\n",
      "            \"bjorck_beta\": 0.5,\n",
      "            \"bjorck_iter\": 20,\n",
      "            \"bjorck_order\": 1,\n",
      "            \"safe_scaling\": true,\n",
      "            \"type\": \"bjorck\"\n",
      "        },\n",
      "        \"per_epoch_proj\": {\n",
      "            \"bjorck_beta\": 0.5,\n",
      "            \"bjorck_iter\": 20,\n",
      "            \"bjorck_order\": 1,\n",
      "            \"reset_optimizer\": false,\n",
      "            \"safe_scaling\": true,\n",
      "            \"turned_on\": false\n",
      "        },\n",
      "        \"per_update_proj\": {\n",
      "            \"bjorck_beta\": 0.5,\n",
      "            \"bjorck_iter\": 12,\n",
      "            \"bjorck_order\": 1,\n",
      "            \"safe_scaling\": true,\n",
      "            \"turned_on\": false\n",
      "        }\n",
      "    },\n",
      "    \"model_restart\": null,\n",
      "    \"model_type\": \"sqJ_classifier_w_derivative\",\n",
      "    \"normalize_input\": false,\n",
      "    \"normalize_output\": false,\n",
      "    \"optim\": {\n",
      "        \"batch_size\": 50,\n",
      "        \"lr_scheduler\": {\n",
      "            \"factor\": 0.3,\n",
      "            \"name\": \"plateau\",\n",
      "            \"patience\": 500\n",
      "        },\n",
      "        \"max_grad_norm\": 1000,\n",
      "        \"momentum\": 0.9,\n",
      "        \"optimizer\": \"adam\",\n",
      "        \"step_size\": 0.02,\n",
      "        \"weight_decay\": 0.0\n",
      "    },\n",
      "    \"seed\": 1840934772,\n",
      "    \"test_filename\": \"tmp.csv\",\n",
      "    \"train_set_size\": 2\n",
      "}\n",
      "sqJModel(\n",
      "  (_net): Sequential(\n",
      "    (0): BjorckLinear(in_features=1, out_features=1, bias=True)\n",
      "    (1): GroupSort(num_groups: 1)\n",
      "    (2): RBFnet(\n",
      "      (centroids): ModuleList(\n",
      "        (0): DistanceModule(\n",
      "          (center): Linear(in_features=1, out_features=1, bias=True)\n",
      "        )\n",
      "        (1): DistanceModule(\n",
      "          (center): Linear(in_features=1, out_features=1, bias=True)\n",
      "        )\n",
      "        (2): DistanceModule(\n",
      "          (center): Linear(in_features=1, out_features=1, bias=True)\n",
      "        )\n",
      "      )\n",
      "    )\n",
      "  )\n",
      ")\n"
     ]
    },
    {
     "name": "stderr",
     "output_type": "stream",
     "text": [
      "100%|██████████| 800/800 [00:04<00:00, 170.43it/s]\n",
      "  2%|▏         | 16/800 [00:00<00:05, 156.38it/s]"
     ]
    },
    {
     "name": "stdout",
     "output_type": "stream",
     "text": [
      "{'model_restart': None, 'filename_suffix': '', 'model_type': 'sqJ_classifier_w_derivative', 'model': {'hidden_layers': [1], 'activation': 'groupsort1', 'linear': {'type': 'bjorck', 'safe_scaling': True, 'bjorck_beta': 0.5, 'bjorck_iter': 20, 'bjorck_order': 1, 'bias': True}, 'per_epoch_proj': {'turned_on': False, 'bjorck_beta': 0.5, 'bjorck_iter': 20, 'bjorck_order': 1, 'safe_scaling': True, 'reset_optimizer': False}, 'per_update_proj': {'turned_on': False, 'bjorck_beta': 0.5, 'bjorck_iter': 12, 'bjorck_order': 1, 'safe_scaling': True}, 'input_size': 1}, 'optim': {'optimizer': 'adam', 'lr_scheduler': {'name': 'plateau', 'patience': 500, 'factor': 0.3}, 'momentum': 0.9, 'weight_decay': 0.0, 'max_grad_norm': 1000, 'step_size': 0.02, 'batch_size': 50}, 'epochs': 800, 'SWA': False, 'grad_norm_regularizer': 0.01, 'early_stopping': None, 'seed': 1840934772, 'filename': 'tmp.csv', 'test_filename': 'tmp.csv', 'input_regex': '^x\\\\d+$', 'augment': False, 'normalize_input': False, 'normalize_output': False, 'logging': {'test': 10000, 'train': 100}, 'input_size': 1, 'train_set_size': 2, 'loss': 4.833144276257789, 'loss_J loss': 0.9917389993625294, 'loss_dJ loss': 3.841405276895259, 'loss_classification loss': 0.0, 'loss_gradient norm': 0.0, 'loss_loss': 4.833144276257789, 'test_accuracy': 0.0, 'test_precision': 0.0, 'test_recall': 0.0, 'test_true_positives': 0.0, 'test_true_negatives': 0.0, 'test_false_positives': 1.0, 'test_false_negatives': 0.0, 'test_f1': -1.0, 'test_Jrmse': 0.25}\n",
      "Training Sep01_19-12-50_jeandb\n",
      "{\n",
      "    \"SWA\": false,\n",
      "    \"augment\": false,\n",
      "    \"early_stopping\": null,\n",
      "    \"epochs\": 800,\n",
      "    \"filename\": \"tmp.csv\",\n",
      "    \"filename_suffix\": \"\",\n",
      "    \"grad_norm_regularizer\": 0.01,\n",
      "    \"input_regex\": \"^x\\\\d+$\",\n",
      "    \"input_size\": 1,\n",
      "    \"logging\": {\n",
      "        \"test\": 10000,\n",
      "        \"train\": 100\n",
      "    },\n",
      "    \"model\": {\n",
      "        \"activation\": \"groupsort1\",\n",
      "        \"hidden_layers\": [\n",
      "            1\n",
      "        ],\n",
      "        \"input_size\": 1,\n",
      "        \"linear\": {\n",
      "            \"bias\": true,\n",
      "            \"bjorck_beta\": 0.5,\n",
      "            \"bjorck_iter\": 20,\n",
      "            \"bjorck_order\": 1,\n",
      "            \"safe_scaling\": true,\n",
      "            \"type\": \"bjorck\"\n",
      "        },\n",
      "        \"per_epoch_proj\": {\n",
      "            \"bjorck_beta\": 0.5,\n",
      "            \"bjorck_iter\": 20,\n",
      "            \"bjorck_order\": 1,\n",
      "            \"reset_optimizer\": false,\n",
      "            \"safe_scaling\": true,\n",
      "            \"turned_on\": false\n",
      "        },\n",
      "        \"per_update_proj\": {\n",
      "            \"bjorck_beta\": 0.5,\n",
      "            \"bjorck_iter\": 12,\n",
      "            \"bjorck_order\": 1,\n",
      "            \"safe_scaling\": true,\n",
      "            \"turned_on\": false\n",
      "        }\n",
      "    },\n",
      "    \"model_restart\": null,\n",
      "    \"model_type\": \"sqJ_classifier_w_derivative\",\n",
      "    \"normalize_input\": false,\n",
      "    \"normalize_output\": false,\n",
      "    \"optim\": {\n",
      "        \"batch_size\": 50,\n",
      "        \"lr_scheduler\": {\n",
      "            \"factor\": 0.3,\n",
      "            \"name\": \"plateau\",\n",
      "            \"patience\": 500\n",
      "        },\n",
      "        \"max_grad_norm\": 1000,\n",
      "        \"momentum\": 0.9,\n",
      "        \"optimizer\": \"adam\",\n",
      "        \"step_size\": 0.02,\n",
      "        \"weight_decay\": 0.0\n",
      "    },\n",
      "    \"seed\": 482732910,\n",
      "    \"test_filename\": \"tmp.csv\",\n",
      "    \"train_set_size\": 2\n",
      "}\n",
      "sqJModel(\n",
      "  (_net): Sequential(\n",
      "    (0): BjorckLinear(in_features=1, out_features=1, bias=True)\n",
      "    (1): GroupSort(num_groups: 1)\n",
      "    (2): RBFnet(\n",
      "      (centroids): ModuleList(\n",
      "        (0): DistanceModule(\n",
      "          (center): Linear(in_features=1, out_features=1, bias=True)\n",
      "        )\n",
      "        (1): DistanceModule(\n",
      "          (center): Linear(in_features=1, out_features=1, bias=True)\n",
      "        )\n",
      "        (2): DistanceModule(\n",
      "          (center): Linear(in_features=1, out_features=1, bias=True)\n",
      "        )\n",
      "      )\n",
      "    )\n",
      "  )\n",
      ")\n"
     ]
    },
    {
     "name": "stderr",
     "output_type": "stream",
     "text": [
      "100%|██████████| 800/800 [00:04<00:00, 172.45it/s]\n",
      "  2%|▏         | 17/800 [00:00<00:04, 163.02it/s]"
     ]
    },
    {
     "name": "stdout",
     "output_type": "stream",
     "text": [
      "{'model_restart': None, 'filename_suffix': '', 'model_type': 'sqJ_classifier_w_derivative', 'model': {'hidden_layers': [1], 'activation': 'groupsort1', 'linear': {'type': 'bjorck', 'safe_scaling': True, 'bjorck_beta': 0.5, 'bjorck_iter': 20, 'bjorck_order': 1, 'bias': True}, 'per_epoch_proj': {'turned_on': False, 'bjorck_beta': 0.5, 'bjorck_iter': 20, 'bjorck_order': 1, 'safe_scaling': True, 'reset_optimizer': False}, 'per_update_proj': {'turned_on': False, 'bjorck_beta': 0.5, 'bjorck_iter': 12, 'bjorck_order': 1, 'safe_scaling': True}, 'input_size': 1}, 'optim': {'optimizer': 'adam', 'lr_scheduler': {'name': 'plateau', 'patience': 500, 'factor': 0.3}, 'momentum': 0.9, 'weight_decay': 0.0, 'max_grad_norm': 1000, 'step_size': 0.02, 'batch_size': 50}, 'epochs': 800, 'SWA': False, 'grad_norm_regularizer': 0.01, 'early_stopping': None, 'seed': 482732910, 'filename': 'tmp.csv', 'test_filename': 'tmp.csv', 'input_regex': '^x\\\\d+$', 'augment': False, 'normalize_input': False, 'normalize_output': False, 'logging': {'test': 10000, 'train': 100}, 'input_size': 1, 'train_set_size': 2, 'loss': 5.0, 'loss_J loss': 1.0, 'loss_dJ loss': 3.9999999999999996, 'loss_classification loss': 0.0, 'loss_gradient norm': 0.0, 'loss_loss': 5.0, 'test_accuracy': 0.0, 'test_precision': 0.0, 'test_recall': 0.0, 'test_true_positives': 0.0, 'test_true_negatives': 0.0, 'test_false_positives': 1.0, 'test_false_negatives': 0.0, 'test_f1': -1.0, 'test_Jrmse': 0.25}\n",
      "Training Sep01_19-12-54_jeandb\n",
      "{\n",
      "    \"SWA\": false,\n",
      "    \"augment\": false,\n",
      "    \"early_stopping\": null,\n",
      "    \"epochs\": 800,\n",
      "    \"filename\": \"tmp.csv\",\n",
      "    \"filename_suffix\": \"\",\n",
      "    \"grad_norm_regularizer\": 0.01,\n",
      "    \"input_regex\": \"^x\\\\d+$\",\n",
      "    \"input_size\": 1,\n",
      "    \"logging\": {\n",
      "        \"test\": 10000,\n",
      "        \"train\": 100\n",
      "    },\n",
      "    \"model\": {\n",
      "        \"activation\": \"groupsort1\",\n",
      "        \"hidden_layers\": [\n",
      "            1\n",
      "        ],\n",
      "        \"input_size\": 1,\n",
      "        \"linear\": {\n",
      "            \"bias\": true,\n",
      "            \"bjorck_beta\": 0.5,\n",
      "            \"bjorck_iter\": 20,\n",
      "            \"bjorck_order\": 1,\n",
      "            \"safe_scaling\": true,\n",
      "            \"type\": \"bjorck\"\n",
      "        },\n",
      "        \"per_epoch_proj\": {\n",
      "            \"bjorck_beta\": 0.5,\n",
      "            \"bjorck_iter\": 20,\n",
      "            \"bjorck_order\": 1,\n",
      "            \"reset_optimizer\": false,\n",
      "            \"safe_scaling\": true,\n",
      "            \"turned_on\": false\n",
      "        },\n",
      "        \"per_update_proj\": {\n",
      "            \"bjorck_beta\": 0.5,\n",
      "            \"bjorck_iter\": 12,\n",
      "            \"bjorck_order\": 1,\n",
      "            \"safe_scaling\": true,\n",
      "            \"turned_on\": false\n",
      "        }\n",
      "    },\n",
      "    \"model_restart\": null,\n",
      "    \"model_type\": \"sqJ_classifier_w_derivative\",\n",
      "    \"normalize_input\": false,\n",
      "    \"normalize_output\": false,\n",
      "    \"optim\": {\n",
      "        \"batch_size\": 50,\n",
      "        \"lr_scheduler\": {\n",
      "            \"factor\": 0.3,\n",
      "            \"name\": \"plateau\",\n",
      "            \"patience\": 500\n",
      "        },\n",
      "        \"max_grad_norm\": 1000,\n",
      "        \"momentum\": 0.9,\n",
      "        \"optimizer\": \"adam\",\n",
      "        \"step_size\": 0.02,\n",
      "        \"weight_decay\": 0.0\n",
      "    },\n",
      "    \"seed\": 497761431,\n",
      "    \"test_filename\": \"tmp.csv\",\n",
      "    \"train_set_size\": 2\n",
      "}\n",
      "sqJModel(\n",
      "  (_net): Sequential(\n",
      "    (0): BjorckLinear(in_features=1, out_features=1, bias=True)\n",
      "    (1): GroupSort(num_groups: 1)\n",
      "    (2): RBFnet(\n",
      "      (centroids): ModuleList(\n",
      "        (0): DistanceModule(\n",
      "          (center): Linear(in_features=1, out_features=1, bias=True)\n",
      "        )\n",
      "        (1): DistanceModule(\n",
      "          (center): Linear(in_features=1, out_features=1, bias=True)\n",
      "        )\n",
      "        (2): DistanceModule(\n",
      "          (center): Linear(in_features=1, out_features=1, bias=True)\n",
      "        )\n",
      "      )\n",
      "    )\n",
      "  )\n",
      ")\n"
     ]
    },
    {
     "name": "stderr",
     "output_type": "stream",
     "text": [
      "100%|██████████| 800/800 [00:04<00:00, 171.50it/s]"
     ]
    },
    {
     "name": "stdout",
     "output_type": "stream",
     "text": [
      "{'model_restart': None, 'filename_suffix': '', 'model_type': 'sqJ_classifier_w_derivative', 'model': {'hidden_layers': [1], 'activation': 'groupsort1', 'linear': {'type': 'bjorck', 'safe_scaling': True, 'bjorck_beta': 0.5, 'bjorck_iter': 20, 'bjorck_order': 1, 'bias': True}, 'per_epoch_proj': {'turned_on': False, 'bjorck_beta': 0.5, 'bjorck_iter': 20, 'bjorck_order': 1, 'safe_scaling': True, 'reset_optimizer': False}, 'per_update_proj': {'turned_on': False, 'bjorck_beta': 0.5, 'bjorck_iter': 12, 'bjorck_order': 1, 'safe_scaling': True}, 'input_size': 1}, 'optim': {'optimizer': 'adam', 'lr_scheduler': {'name': 'plateau', 'patience': 500, 'factor': 0.3}, 'momentum': 0.9, 'weight_decay': 0.0, 'max_grad_norm': 1000, 'step_size': 0.02, 'batch_size': 50}, 'epochs': 800, 'SWA': False, 'grad_norm_regularizer': 0.01, 'early_stopping': None, 'seed': 497761431, 'filename': 'tmp.csv', 'test_filename': 'tmp.csv', 'input_regex': '^x\\\\d+$', 'augment': False, 'normalize_input': False, 'normalize_output': False, 'logging': {'test': 10000, 'train': 100}, 'input_size': 1, 'train_set_size': 2, 'loss': 1.65872633250977, 'loss_J loss': 1.1376969814640898, 'loss_dJ loss': 0.5210293510456803, 'loss_classification loss': 0.0, 'loss_gradient norm': 0.0, 'loss_loss': 1.65872633250977, 'test_accuracy': 0.0, 'test_precision': 0.0, 'test_recall': 0.0, 'test_true_positives': 0.0, 'test_true_negatives': 0.0, 'test_false_positives': 1.0, 'test_false_negatives': 0.0, 'test_f1': -1.0, 'test_Jrmse': 0.25}\n"
     ]
    },
    {
     "name": "stderr",
     "output_type": "stream",
     "text": [
      "\n"
     ]
    }
   ],
   "source": [
    "models = []\n",
    "for i in range(10):\n",
    "    _, _, model = train(params)\n",
    "    models.append(model)"
   ]
  },
  {
   "cell_type": "code",
   "execution_count": 7,
   "metadata": {},
   "outputs": [],
   "source": [
    "Jpreds = []\n",
    "with torch.no_grad():\n",
    "    for model in models:\n",
    "        model.eval()\n",
    "        Jpred = model(torch.tensor(t).unsqueeze(1))\n",
    "        Jpreds.append(Jpred)"
   ]
  },
  {
   "cell_type": "code",
   "execution_count": 8,
   "metadata": {},
   "outputs": [
    {
     "data": {
      "text/plain": [
       "[<matplotlib.lines.Line2D at 0x7fb569c89520>]"
      ]
     },
     "execution_count": 8,
     "metadata": {},
     "output_type": "execute_result"
    },
    {
     "data": {
      "image/png": "[encoded data removed]",
      "text/plain": [
       "<Figure size 432x288 with 1 Axes>"
      ]
     },
     "metadata": {
      "needs_background": "light"
     },
     "output_type": "display_data"
    }
   ],
   "source": [
    "for Jpred in Jpreds:\n",
    "    plt.plot(t, Jpred, '--')\n",
    "plt.plot(t, J)\n",
    "plt.plot(data.x0, data.sqJ,'o')\n",
    "plt.plot(data.x0_star, [0.],'o')"
   ]
  },
  {
   "cell_type": "code",
   "execution_count": 14,
   "metadata": {},
   "outputs": [
    {
     "data": {
      "text/plain": [
       "True"
      ]
     },
     "execution_count": 14,
     "metadata": {},
     "output_type": "execute_result"
    }
   ],
   "source": [
    "m.training"
   ]
  },
  {
   "cell_type": "code",
   "execution_count": 12,
   "metadata": {},
   "outputs": [],
   "source": [
    "m = models[0]"
   ]
  },
  {
   "cell_type": "code",
   "execution_count": 15,
   "metadata": {},
   "outputs": [
    {
     "data": {
      "text/plain": [
       "Parameter containing:\n",
       "tensor([0.2732], requires_grad=True)"
      ]
     },
     "execution_count": 15,
     "metadata": {},
     "output_type": "execute_result"
    }
   ],
   "source": [
    "m._net[2].centroids[2].center.bias"
   ]
  },
  {
   "cell_type": "code",
   "execution_count": 16,
   "metadata": {},
   "outputs": [
    {
     "data": {
      "text/plain": [
       "sqJModel(\n",
       "  (_net): Sequential(\n",
       "    (0): BjorckLinear(in_features=1, out_features=1, bias=True)\n",
       "    (1): GroupSort(num_groups: 1)\n",
       "    (2): RBFnet(\n",
       "      (centroids): ModuleList(\n",
       "        (0): DistanceModule(\n",
       "          (center): Linear(in_features=1, out_features=1, bias=True)\n",
       "        )\n",
       "        (1): DistanceModule(\n",
       "          (center): Linear(in_features=1, out_features=1, bias=True)\n",
       "        )\n",
       "        (2): DistanceModule(\n",
       "          (center): Linear(in_features=1, out_features=1, bias=True)\n",
       "        )\n",
       "      )\n",
       "    )\n",
       "  )\n",
       ")"
      ]
     },
     "execution_count": 16,
     "metadata": {},
     "output_type": "execute_result"
    }
   ],
   "source": [
    "m"
   ]
  },
  {
   "cell_type": "code",
   "execution_count": 27,
   "metadata": {},
   "outputs": [],
   "source": [
    "# models[0].params['per_epoch_proj']['turned_on'] = True\n",
    "# models[0].projection('epoch')\n",
    "# W = [layer.weight.data for layer in models[0]._net if hasattr(layer, 'weight')]"
   ]
  },
  {
   "cell_type": "code",
   "execution_count": 29,
   "metadata": {},
   "outputs": [
    {
     "data": {
      "text/plain": [
       "tensor([0.2282, 0.8368, 0.5889, 1.9188, 1.0161, 2.4401, 0.0757, 0.2801, 1.7544,\n",
       "        0.2067])"
      ]
     },
     "execution_count": 29,
     "metadata": {},
     "output_type": "execute_result"
    }
   ],
   "source": [
    "x = torch.randn((10,1))\n",
    "x.norm(dim=1)"
   ]
  },
  {
   "cell_type": "code",
   "execution_count": 31,
   "metadata": {},
   "outputs": [
    {
     "data": {
      "text/plain": [
       "tensor([0.2282, 0.8368, 0.5889, 1.9188, 1.0161, 2.4401, 0.0757, 0.2801, 1.7544,\n",
       "        0.2067])"
      ]
     },
     "execution_count": 31,
     "metadata": {},
     "output_type": "execute_result"
    }
   ],
   "source": [
    "((W[-1]) @ x.T).norm(dim=0)"
   ]
  },
  {
   "cell_type": "code",
   "execution_count": 11,
   "metadata": {},
   "outputs": [],
   "source": [
    "W0 = torch.ones((8,1))\n",
    "W0[4:] *= -1\n",
    "# W0 /= W0.norm()"
   ]
  },
  {
   "cell_type": "code",
   "execution_count": 12,
   "metadata": {},
   "outputs": [
    {
     "ename": "NameError",
     "evalue": "name 'W' is not defined",
     "output_type": "error",
     "traceback": [
      "\u001b[0;31m---------------------------------------------------------------------------\u001b[0m",
      "\u001b[0;31mNameError\u001b[0m                                 Traceback (most recent call last)",
      "\u001b[0;32m<ipython-input-12-eb647a58f8dd>\u001b[0m in \u001b[0;36m<module>\u001b[0;34m\u001b[0m\n\u001b[0;32m----> 1\u001b[0;31m \u001b[0;34m(\u001b[0m\u001b[0mW\u001b[0m\u001b[0;34m[\u001b[0m\u001b[0;34m-\u001b[0m\u001b[0;36m1\u001b[0m\u001b[0;34m]\u001b[0m \u001b[0;34m@\u001b[0m \u001b[0mW\u001b[0m\u001b[0;34m[\u001b[0m\u001b[0;34m-\u001b[0m\u001b[0;36m2\u001b[0m\u001b[0;34m]\u001b[0m \u001b[0;34m@\u001b[0m \u001b[0mW\u001b[0m\u001b[0;34m[\u001b[0m\u001b[0;34m-\u001b[0m\u001b[0;36m3\u001b[0m\u001b[0;34m]\u001b[0m \u001b[0;34m)\u001b[0m\u001b[0;34m.\u001b[0m\u001b[0mnorm\u001b[0m\u001b[0;34m(\u001b[0m\u001b[0;34m)\u001b[0m\u001b[0;34m\u001b[0m\u001b[0;34m\u001b[0m\u001b[0m\n\u001b[0m",
      "\u001b[0;31mNameError\u001b[0m: name 'W' is not defined"
     ]
    }
   ],
   "source": [
    "(W[-1] @ W[-2] @ W[-3] ).norm()"
   ]
  },
  {
   "cell_type": "code",
   "execution_count": 13,
   "metadata": {},
   "outputs": [
    {
     "ename": "NameError",
     "evalue": "name 'W' is not defined",
     "output_type": "error",
     "traceback": [
      "\u001b[0;31m---------------------------------------------------------------------------\u001b[0m",
      "\u001b[0;31mNameError\u001b[0m                                 Traceback (most recent call last)",
      "\u001b[0;32m<ipython-input-13-5604fc8fc3f7>\u001b[0m in \u001b[0;36m<module>\u001b[0;34m\u001b[0m\n\u001b[0;32m----> 1\u001b[0;31m \u001b[0mW\u001b[0m\u001b[0;34m[\u001b[0m\u001b[0;34m-\u001b[0m\u001b[0;36m1\u001b[0m\u001b[0;34m]\u001b[0m\u001b[0;34m.\u001b[0m\u001b[0mshape\u001b[0m\u001b[0;34m\u001b[0m\u001b[0;34m\u001b[0m\u001b[0m\n\u001b[0m",
      "\u001b[0;31mNameError\u001b[0m: name 'W' is not defined"
     ]
    }
   ],
   "source": [
    "W[-1].shape\n"
   ]
  },
  {
   "cell_type": "code",
   "execution_count": 14,
   "metadata": {},
   "outputs": [
    {
     "ename": "NameError",
     "evalue": "name 'W' is not defined",
     "output_type": "error",
     "traceback": [
      "\u001b[0;31m---------------------------------------------------------------------------\u001b[0m",
      "\u001b[0;31mNameError\u001b[0m                                 Traceback (most recent call last)",
      "\u001b[0;32m<ipython-input-14-7d451ed9bf2f>\u001b[0m in \u001b[0;36m<module>\u001b[0;34m\u001b[0m\n\u001b[0;32m----> 1\u001b[0;31m \u001b[0;34m(\u001b[0m\u001b[0mW\u001b[0m\u001b[0;34m[\u001b[0m\u001b[0;34m-\u001b[0m\u001b[0;36m1\u001b[0m\u001b[0;34m]\u001b[0m \u001b[0;34m@\u001b[0m \u001b[0mW\u001b[0m\u001b[0;34m[\u001b[0m\u001b[0;34m-\u001b[0m\u001b[0;36m2\u001b[0m\u001b[0;34m]\u001b[0m \u001b[0;34m@\u001b[0m \u001b[0mW0\u001b[0m\u001b[0;34m)\u001b[0m\u001b[0;34m.\u001b[0m\u001b[0mnorm\u001b[0m\u001b[0;34m(\u001b[0m\u001b[0;34m)\u001b[0m\u001b[0;34m\u001b[0m\u001b[0;34m\u001b[0m\u001b[0m\n\u001b[0m",
      "\u001b[0;31mNameError\u001b[0m: name 'W' is not defined"
     ]
    }
   ],
   "source": [
    "(W[-1] @ W[-2] @ W0).norm()"
   ]
  },
  {
   "cell_type": "code",
   "execution_count": 15,
   "metadata": {},
   "outputs": [
    {
     "data": {
      "text/plain": [
       "tensor([[ 1.],\n",
       "        [ 1.],\n",
       "        [ 1.],\n",
       "        [ 1.],\n",
       "        [-1.],\n",
       "        [-1.],\n",
       "        [-1.],\n",
       "        [-1.]])"
      ]
     },
     "execution_count": 15,
     "metadata": {},
     "output_type": "execute_result"
    }
   ],
   "source": [
    "W0"
   ]
  },
  {
   "cell_type": "code",
   "execution_count": 28,
   "metadata": {},
   "outputs": [
    {
     "data": {
      "text/plain": [
       "[<matplotlib.lines.Line2D at 0x7fe4a95f6f40>]"
      ]
     },
     "execution_count": 28,
     "metadata": {},
     "output_type": "execute_result"
    },
    {
     "data": {
      "image/png": "[encoded data removed]",
      "text/plain": [
       "<Figure size 432x288 with 1 Axes>"
      ]
     },
     "metadata": {
      "needs_background": "light"
     },
     "output_type": "display_data"
    }
   ],
   "source": [
    "for Jpred in Jpreds:\n",
    "    plt.plot(t, Jpred, '--')\n",
    "plt.plot(t, J)\n",
    "plt.plot(data.x0, data.sqJ,'o')\n",
    "plt.plot(data.x0_star, [0.],'o')"
   ]
  },
  {
   "cell_type": "code",
   "execution_count": null,
   "metadata": {},
   "outputs": [],
   "source": []
  }
 ],
 "metadata": {
  "@webio": {
   "lastCommId": null,
   "lastKernelId": null
  },
  "kernelspec": {
   "display_name": "Python [conda env:denv] *",
   "language": "python",
   "name": "conda-env-denv-py"
  },
  "language_info": {
   "codemirror_mode": {
    "name": "ipython",
    "version": 3
   },
   "file_extension": ".py",
   "mimetype": "text/x-python",
   "name": "python",
   "nbconvert_exporter": "python",
   "pygments_lexer": "ipython3",
   "version": "3.8.5"
  }
 },
 "nbformat": 4,
 "nbformat_minor": 4
}
